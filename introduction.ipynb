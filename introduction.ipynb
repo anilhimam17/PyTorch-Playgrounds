{
 "cells": [
  {
   "cell_type": "markdown",
   "id": "4504cef7",
   "metadata": {},
   "source": [
    "## Tensors\n",
    "- Tensors in PyTorch are similar to the ndarrays from NumPy, however tensors run on GPUs and other hardware accelerators.\n",
    "- Tensors are highly optimised for Automatic Differentiation."
   ]
  },
  {
   "cell_type": "code",
   "execution_count": 1,
   "id": "186c11d3",
   "metadata": {},
   "outputs": [],
   "source": [
    "import torch\n",
    "import numpy as np"
   ]
  },
  {
   "cell_type": "code",
   "execution_count": 8,
   "id": "fd983a42",
   "metadata": {},
   "outputs": [
    {
     "name": "stdout",
     "output_type": "stream",
     "text": [
      "From Python List\n",
      " tensor([[1, 2],\n",
      "        [3, 4]])\n",
      "From ndarray\n",
      " tensor([[ 1,  2,  3,  4,  5],\n",
      "        [ 6,  7,  8,  9, 10]])\n",
      "Same as Tensor with Ones\n",
      " tensor([[1, 1, 1, 1, 1],\n",
      "        [1, 1, 1, 1, 1]])\n",
      "Same as Tensor with new values\n",
      " tensor([[0.3110, 0.9610, 0.2283, 0.4134, 0.9879],\n",
      "        [0.5834, 0.4659, 0.1277, 0.8026, 0.3287]])\n",
      "Same as Tensor with new values from normal distribution\n",
      " tensor([[ 0.7459, -0.4413, -0.0657,  0.3865, -1.1455],\n",
      "        [-0.3506,  0.8501, -0.4497, -0.9375, -1.1116]])\n"
     ]
    }
   ],
   "source": [
    "# From Python List\n",
    "data = [[1, 2], [3, 4]]\n",
    "tensor = torch.tensor(data)\n",
    "print(\"From Python List\\n\", tensor, end=\"\\n\")\n",
    "\n",
    "# From NumPy Array\n",
    "array = np.arange(1, 11).reshape(2, 5)\n",
    "tensor = torch.from_numpy(array)\n",
    "print(\"From ndarray\\n\", tensor, end=\"\\n\")\n",
    "\n",
    "# From another Tensor by Structure\n",
    "tensor_ones = torch.ones_like(tensor)\n",
    "print(\"Same as Tensor with Ones\\n\", tensor_ones, end=\"\\n\")\n",
    "\n",
    "# From another Tensor by Value and Structure\n",
    "tensor_rand = torch.rand_like(tensor, dtype=torch.float)\n",
    "print(\"Same as Tensor with new values\\n\", tensor_rand, end=\"\\n\")\n",
    "\n",
    "tensor_randn = torch.randn_like(tensor, dtype=torch.float)\n",
    "print(\"Same as Tensor with new values from normal distribution\\n\", tensor_randn, end=\"\\n\")"
   ]
  },
  {
   "cell_type": "code",
   "execution_count": 10,
   "id": "0b2e82cc",
   "metadata": {},
   "outputs": [
    {
     "name": "stdout",
     "output_type": "stream",
     "text": [
      "Random Tensor from Uniform Distribution\n",
      " tensor([[[0.5464, 0.9183, 0.8916, 0.8160],\n",
      "         [0.2907, 0.1234, 0.5945, 0.3335]],\n",
      "\n",
      "        [[0.7520, 0.0723, 0.7129, 0.2175],\n",
      "         [0.9247, 0.1487, 0.1825, 0.8493]],\n",
      "\n",
      "        [[0.5231, 0.3300, 0.6922, 0.6443],\n",
      "         [0.6239, 0.9048, 0.9479, 0.4333]]])\n",
      "Random Tensor from Normal Distribution\n",
      " tensor([[[ 0.1355,  0.3161, -1.5148, -1.7348],\n",
      "         [ 0.3769,  1.2826,  0.9275, -0.0081]],\n",
      "\n",
      "        [[-1.2436,  1.8709,  0.2355,  0.4512],\n",
      "         [-1.4771, -0.8445, -1.2022,  0.4216]],\n",
      "\n",
      "        [[ 0.8909,  1.5391, -0.7561, -1.8856],\n",
      "         [-1.6038,  1.3051, -0.6606,  0.5111]]])\n",
      "Random Tensor of Zeros\n",
      " tensor([[[0., 0., 0., 0.],\n",
      "         [0., 0., 0., 0.]],\n",
      "\n",
      "        [[0., 0., 0., 0.],\n",
      "         [0., 0., 0., 0.]],\n",
      "\n",
      "        [[0., 0., 0., 0.],\n",
      "         [0., 0., 0., 0.]]])\n",
      "Random Tensor of Ones\n",
      " tensor([[[1., 1., 1., 1.],\n",
      "         [1., 1., 1., 1.]],\n",
      "\n",
      "        [[1., 1., 1., 1.],\n",
      "         [1., 1., 1., 1.]],\n",
      "\n",
      "        [[1., 1., 1., 1.],\n",
      "         [1., 1., 1., 1.]]])\n"
     ]
    }
   ],
   "source": [
    "# Randomly Generated Tensors\n",
    "shape = (3, 2, 4)\n",
    "\n",
    "rand_tensor = torch.rand(shape)\n",
    "print(\"Random Tensor from Uniform Distribution\\n\", rand_tensor, end=\"\\n\")\n",
    "\n",
    "randn_tensor = torch.randn(shape)\n",
    "print(\"Random Tensor from Normal Distribution\\n\", randn_tensor, end=\"\\n\")\n",
    "\n",
    "zero_tensor = torch.zeros(shape)\n",
    "print(\"Random Tensor of Zeros\\n\", zero_tensor, end=\"\\n\")\n",
    "\n",
    "ones_tensor = torch.ones(shape)\n",
    "print(\"Random Tensor of Ones\\n\", ones_tensor, end=\"\\n\")"
   ]
  },
  {
   "cell_type": "markdown",
   "id": "4b452c62",
   "metadata": {},
   "source": [
    "## Attributes of a Tensor\n",
    "- PyTorch tensors have several accessible attributes\n",
    "    - No of Dimensions\n",
    "    - Shape\n",
    "    - Datatype\n",
    "    - Device"
   ]
  },
  {
   "cell_type": "code",
   "execution_count": 21,
   "id": "daf07376",
   "metadata": {},
   "outputs": [
    {
     "data": {
      "text/plain": [
       "3"
      ]
     },
     "execution_count": 21,
     "metadata": {},
     "output_type": "execute_result"
    }
   ],
   "source": [
    "rand_tensor.ndim"
   ]
  },
  {
   "cell_type": "code",
   "execution_count": 11,
   "id": "ec11b2d8",
   "metadata": {},
   "outputs": [
    {
     "data": {
      "text/plain": [
       "torch.Size([3, 2, 4])"
      ]
     },
     "execution_count": 11,
     "metadata": {},
     "output_type": "execute_result"
    }
   ],
   "source": [
    "rand_tensor.shape"
   ]
  },
  {
   "cell_type": "code",
   "execution_count": 13,
   "id": "ee0d26dd",
   "metadata": {},
   "outputs": [
    {
     "data": {
      "text/plain": [
       "torch.float32"
      ]
     },
     "execution_count": 13,
     "metadata": {},
     "output_type": "execute_result"
    }
   ],
   "source": [
    "rand_tensor.dtype"
   ]
  },
  {
   "cell_type": "code",
   "execution_count": 14,
   "id": "e9dbe912",
   "metadata": {},
   "outputs": [
    {
     "data": {
      "text/plain": [
       "device(type='cpu')"
      ]
     },
     "execution_count": 14,
     "metadata": {},
     "output_type": "execute_result"
    }
   ],
   "source": [
    "rand_tensor.device"
   ]
  },
  {
   "cell_type": "markdown",
   "id": "a2b48bbd",
   "metadata": {},
   "source": [
    "**Important**\n",
    "- By default all the Tensors created using PyTorch are stored on CPU.\n",
    "- To utilise accelerators to allocate, store and operate on Tensors we need to utilise the `.to()`.\n",
    "- However, it is evident that transferring large tensors between devices is expensive in terms of Time and Memory."
   ]
  },
  {
   "cell_type": "code",
   "execution_count": 15,
   "id": "aa36843d",
   "metadata": {},
   "outputs": [
    {
     "name": "stdout",
     "output_type": "stream",
     "text": [
      "Device Found:  mps\n",
      "Moving the tensor to the Device\n",
      "tensor([[[ 0.1355,  0.3161, -1.5148, -1.7348],\n",
      "         [ 0.3769,  1.2826,  0.9275, -0.0081]],\n",
      "\n",
      "        [[-1.2436,  1.8709,  0.2355,  0.4512],\n",
      "         [-1.4771, -0.8445, -1.2022,  0.4216]],\n",
      "\n",
      "        [[ 0.8909,  1.5391, -0.7561, -1.8856],\n",
      "         [-1.6038,  1.3051, -0.6606,  0.5111]]], device='mps:0')\n",
      "mps:0\n"
     ]
    }
   ],
   "source": [
    "# Checking the availability of an Accelerator\n",
    "if torch.accelerator.is_available():\n",
    "    print(\"Device Found: \", torch.accelerator.current_accelerator().type)  # type: ignore\n",
    "    print(\"Moving the tensor to the Device\")\n",
    "    randn_tensor = randn_tensor.to(torch.accelerator.current_accelerator())\n",
    "    print(randn_tensor)\n",
    "    print(randn_tensor.device)"
   ]
  },
  {
   "cell_type": "markdown",
   "id": "b3d5c847",
   "metadata": {},
   "source": [
    "## Indexing and Slicing\n",
    "\n",
    "A simplified anatomy of Tensors, Matrices and Vectors\n",
    "\n",
    "[source](https://www.google.com/url?sa=i&url=https%3A%2F%2Fwww.avni.sh%2Fposts%2Fmath%2Flinear-algebra%2Ftensors%2F&psig=AOvVaw0VGDSt1kWNc9uPec2Bt0Zi&ust=1755448210343000&source=images&cd=vfe&opi=89978449&ved=0CBkQjhxqFwoTCPCVza3gj48DFQAAAAAdAAAAABAT)\n",
    "\n",
    "![Anatomy of Tensors](./assets/tensors-anatomy.png)"
   ]
  },
  {
   "cell_type": "code",
   "execution_count": 16,
   "id": "b3b5a020",
   "metadata": {},
   "outputs": [
    {
     "name": "stdout",
     "output_type": "stream",
     "text": [
      "tensor([[[0.2942, 0.1776, 0.4684, 0.2800],\n",
      "         [0.9134, 0.3048, 0.1982, 0.1514],\n",
      "         [0.6542, 0.0890, 0.0447, 0.0740]],\n",
      "\n",
      "        [[0.8388, 0.4354, 0.0633, 0.7614],\n",
      "         [0.2949, 0.9845, 0.3496, 0.7804],\n",
      "         [0.4865, 0.0206, 0.7748, 0.2838]]])\n"
     ]
    }
   ],
   "source": [
    "rand = torch.rand((2, 3, 4))\n",
    "print(rand)"
   ]
  },
  {
   "cell_type": "code",
   "execution_count": 17,
   "id": "3bd3faa3",
   "metadata": {},
   "outputs": [
    {
     "name": "stdout",
     "output_type": "stream",
     "text": [
      "First Row\n",
      "tensor([[0.2942, 0.1776, 0.4684, 0.2800],\n",
      "        [0.9134, 0.3048, 0.1982, 0.1514],\n",
      "        [0.6542, 0.0890, 0.0447, 0.0740]])\n"
     ]
    }
   ],
   "source": [
    "print(\"First Row\")\n",
    "print(rand[0])"
   ]
  },
  {
   "cell_type": "code",
   "execution_count": 18,
   "id": "25044f2a",
   "metadata": {},
   "outputs": [
    {
     "name": "stdout",
     "output_type": "stream",
     "text": [
      "First Column\n",
      "tensor([[0.2942, 0.1776, 0.4684, 0.2800],\n",
      "        [0.8388, 0.4354, 0.0633, 0.7614]])\n"
     ]
    }
   ],
   "source": [
    "print(\"First Column\")\n",
    "print(rand[:, 0])"
   ]
  },
  {
   "cell_type": "code",
   "execution_count": null,
   "id": "b3badcf9",
   "metadata": {},
   "outputs": [
    {
     "name": "stdout",
     "output_type": "stream",
     "text": [
      "Last Column\n",
      "tensor([[0.6542, 0.0890, 0.0447, 0.0740],\n",
      "        [0.4865, 0.0206, 0.7748, 0.2838]])\n"
     ]
    }
   ],
   "source": [
    "print(\"Last Column 2D\")\n",
    "print(rand[:, -1])"
   ]
  },
  {
   "cell_type": "code",
   "execution_count": 20,
   "id": "a9b4629c",
   "metadata": {},
   "outputs": [
    {
     "name": "stdout",
     "output_type": "stream",
     "text": [
      "Last Column nD\n",
      "tensor([[0.2800, 0.1514, 0.0740],\n",
      "        [0.7614, 0.7804, 0.2838]])\n"
     ]
    }
   ],
   "source": [
    "print(\"Last Column nD\")\n",
    "print(rand[..., -1])"
   ]
  },
  {
   "cell_type": "markdown",
   "id": "ec989b2d",
   "metadata": {},
   "source": [
    "## Operations on Tensors"
   ]
  },
  {
   "cell_type": "code",
   "execution_count": 22,
   "id": "4d7725cc",
   "metadata": {},
   "outputs": [
    {
     "data": {
      "text/plain": [
       "tensor([[[0.2942, 0.1776, 0.4684, 0.2800],\n",
       "         [0.9134, 0.3048, 0.1982, 0.1514],\n",
       "         [0.6542, 0.0890, 0.0447, 0.0740]],\n",
       "\n",
       "        [[0.8388, 0.4354, 0.0633, 0.7614],\n",
       "         [0.2949, 0.9845, 0.3496, 0.7804],\n",
       "         [0.4865, 0.0206, 0.7748, 0.2838]]])"
      ]
     },
     "execution_count": 22,
     "metadata": {},
     "output_type": "execute_result"
    }
   ],
   "source": [
    "rand"
   ]
  },
  {
   "cell_type": "code",
   "execution_count": 23,
   "id": "30c86b38",
   "metadata": {},
   "outputs": [
    {
     "data": {
      "text/plain": [
       "tensor([[[0.2942, 0.1776, 0.4684, 0.2800],\n",
       "         [0.9134, 0.3048, 0.1982, 0.1514],\n",
       "         [0.6542, 0.0890, 0.0447, 0.0740]],\n",
       "\n",
       "        [[0.8388, 0.4354, 0.0633, 0.7614],\n",
       "         [0.2949, 0.9845, 0.3496, 0.7804],\n",
       "         [0.4865, 0.0206, 0.7748, 0.2838]],\n",
       "\n",
       "        [[0.2942, 0.1776, 0.4684, 0.2800],\n",
       "         [0.9134, 0.3048, 0.1982, 0.1514],\n",
       "         [0.6542, 0.0890, 0.0447, 0.0740]],\n",
       "\n",
       "        [[0.8388, 0.4354, 0.0633, 0.7614],\n",
       "         [0.2949, 0.9845, 0.3496, 0.7804],\n",
       "         [0.4865, 0.0206, 0.7748, 0.2838]]])"
      ]
     },
     "execution_count": 23,
     "metadata": {},
     "output_type": "execute_result"
    }
   ],
   "source": [
    "# Concatenating against the first - 0th dimension\n",
    "torch.cat([rand, rand], dim=0)"
   ]
  },
  {
   "cell_type": "code",
   "execution_count": null,
   "id": "089ffb5a",
   "metadata": {},
   "outputs": [
    {
     "data": {
      "text/plain": [
       "tensor([[[0.2942, 0.1776, 0.4684, 0.2800],\n",
       "         [0.9134, 0.3048, 0.1982, 0.1514],\n",
       "         [0.6542, 0.0890, 0.0447, 0.0740],\n",
       "         [0.2942, 0.1776, 0.4684, 0.2800],\n",
       "         [0.9134, 0.3048, 0.1982, 0.1514],\n",
       "         [0.6542, 0.0890, 0.0447, 0.0740]],\n",
       "\n",
       "        [[0.8388, 0.4354, 0.0633, 0.7614],\n",
       "         [0.2949, 0.9845, 0.3496, 0.7804],\n",
       "         [0.4865, 0.0206, 0.7748, 0.2838],\n",
       "         [0.8388, 0.4354, 0.0633, 0.7614],\n",
       "         [0.2949, 0.9845, 0.3496, 0.7804],\n",
       "         [0.4865, 0.0206, 0.7748, 0.2838]]])"
      ]
     },
     "execution_count": 24,
     "metadata": {},
     "output_type": "execute_result"
    }
   ],
   "source": [
    "# Concatenating against the second - 1st dimension\n",
    "torch.cat([rand, rand], dim=1)"
   ]
  },
  {
   "cell_type": "code",
   "execution_count": 25,
   "id": "e65c0568",
   "metadata": {},
   "outputs": [
    {
     "data": {
      "text/plain": [
       "tensor([[[0.2942, 0.1776, 0.4684, 0.2800, 0.2942, 0.1776, 0.4684, 0.2800],\n",
       "         [0.9134, 0.3048, 0.1982, 0.1514, 0.9134, 0.3048, 0.1982, 0.1514],\n",
       "         [0.6542, 0.0890, 0.0447, 0.0740, 0.6542, 0.0890, 0.0447, 0.0740]],\n",
       "\n",
       "        [[0.8388, 0.4354, 0.0633, 0.7614, 0.8388, 0.4354, 0.0633, 0.7614],\n",
       "         [0.2949, 0.9845, 0.3496, 0.7804, 0.2949, 0.9845, 0.3496, 0.7804],\n",
       "         [0.4865, 0.0206, 0.7748, 0.2838, 0.4865, 0.0206, 0.7748, 0.2838]]])"
      ]
     },
     "execution_count": 25,
     "metadata": {},
     "output_type": "execute_result"
    }
   ],
   "source": [
    "# Concatenating against the third - 2nd dimension\n",
    "torch.cat([rand, rand], dim=2)"
   ]
  },
  {
   "cell_type": "code",
   "execution_count": 26,
   "id": "0a7dd25f",
   "metadata": {},
   "outputs": [
    {
     "data": {
      "text/plain": [
       "tensor([[[[0.2942, 0.1776, 0.4684, 0.2800],\n",
       "          [0.9134, 0.3048, 0.1982, 0.1514],\n",
       "          [0.6542, 0.0890, 0.0447, 0.0740]],\n",
       "\n",
       "         [[0.8388, 0.4354, 0.0633, 0.7614],\n",
       "          [0.2949, 0.9845, 0.3496, 0.7804],\n",
       "          [0.4865, 0.0206, 0.7748, 0.2838]]],\n",
       "\n",
       "\n",
       "        [[[0.2942, 0.1776, 0.4684, 0.2800],\n",
       "          [0.9134, 0.3048, 0.1982, 0.1514],\n",
       "          [0.6542, 0.0890, 0.0447, 0.0740]],\n",
       "\n",
       "         [[0.8388, 0.4354, 0.0633, 0.7614],\n",
       "          [0.2949, 0.9845, 0.3496, 0.7804],\n",
       "          [0.4865, 0.0206, 0.7748, 0.2838]]]])"
      ]
     },
     "execution_count": 26,
     "metadata": {},
     "output_type": "execute_result"
    }
   ],
   "source": [
    "# Stacking on the 0th dimension\n",
    "torch.stack([rand, rand], dim=0)"
   ]
  },
  {
   "cell_type": "code",
   "execution_count": 27,
   "id": "0faff5cb",
   "metadata": {},
   "outputs": [
    {
     "data": {
      "text/plain": [
       "tensor([[[[0.2942, 0.1776, 0.4684, 0.2800],\n",
       "          [0.9134, 0.3048, 0.1982, 0.1514],\n",
       "          [0.6542, 0.0890, 0.0447, 0.0740]],\n",
       "\n",
       "         [[0.2942, 0.1776, 0.4684, 0.2800],\n",
       "          [0.9134, 0.3048, 0.1982, 0.1514],\n",
       "          [0.6542, 0.0890, 0.0447, 0.0740]]],\n",
       "\n",
       "\n",
       "        [[[0.8388, 0.4354, 0.0633, 0.7614],\n",
       "          [0.2949, 0.9845, 0.3496, 0.7804],\n",
       "          [0.4865, 0.0206, 0.7748, 0.2838]],\n",
       "\n",
       "         [[0.8388, 0.4354, 0.0633, 0.7614],\n",
       "          [0.2949, 0.9845, 0.3496, 0.7804],\n",
       "          [0.4865, 0.0206, 0.7748, 0.2838]]]])"
      ]
     },
     "execution_count": 27,
     "metadata": {},
     "output_type": "execute_result"
    }
   ],
   "source": [
    "# Stacking on the 1st dimension\n",
    "torch.stack([rand, rand], dim=1)"
   ]
  },
  {
   "cell_type": "code",
   "execution_count": 28,
   "id": "76db738c",
   "metadata": {},
   "outputs": [
    {
     "data": {
      "text/plain": [
       "tensor([[[[0.2942, 0.1776, 0.4684, 0.2800],\n",
       "          [0.2942, 0.1776, 0.4684, 0.2800]],\n",
       "\n",
       "         [[0.9134, 0.3048, 0.1982, 0.1514],\n",
       "          [0.9134, 0.3048, 0.1982, 0.1514]],\n",
       "\n",
       "         [[0.6542, 0.0890, 0.0447, 0.0740],\n",
       "          [0.6542, 0.0890, 0.0447, 0.0740]]],\n",
       "\n",
       "\n",
       "        [[[0.8388, 0.4354, 0.0633, 0.7614],\n",
       "          [0.8388, 0.4354, 0.0633, 0.7614]],\n",
       "\n",
       "         [[0.2949, 0.9845, 0.3496, 0.7804],\n",
       "          [0.2949, 0.9845, 0.3496, 0.7804]],\n",
       "\n",
       "         [[0.4865, 0.0206, 0.7748, 0.2838],\n",
       "          [0.4865, 0.0206, 0.7748, 0.2838]]]])"
      ]
     },
     "execution_count": 28,
     "metadata": {},
     "output_type": "execute_result"
    }
   ],
   "source": [
    "# Stacking on the 2nd dimension\n",
    "torch.stack([rand, rand], dim=2)"
   ]
  },
  {
   "cell_type": "code",
   "execution_count": 31,
   "id": "904bacdc",
   "metadata": {},
   "outputs": [
    {
     "name": "stdout",
     "output_type": "stream",
     "text": [
      "X:\n",
      " tensor([[0.9055, 0.5308],\n",
      "        [0.6801, 0.1071],\n",
      "        [0.7564, 0.2610]])\n",
      "Matrix Mul:\n",
      " tensor([[1.1017, 0.6726, 0.8235],\n",
      "        [0.6726, 0.4740, 0.5424],\n",
      "        [0.8235, 0.5424, 0.6403]])\n",
      "Matrix Mul:\n",
      " tensor([[1.1017, 0.6726, 0.8235],\n",
      "        [0.6726, 0.4740, 0.5424],\n",
      "        [0.8235, 0.5424, 0.6403]])\n",
      "Final Matrix Mul:\n",
      " tensor([[1.1017, 0.6726, 0.8235],\n",
      "        [0.6726, 0.4740, 0.5424],\n",
      "        [0.8235, 0.5424, 0.6403]])\n"
     ]
    }
   ],
   "source": [
    "# Matrix Multiplication\n",
    "X = torch.rand(3, 2)\n",
    "print(\"X:\\n\", X)\n",
    "\n",
    "mul = X @ X.T\n",
    "print(\"Matrix Mul:\\n\", mul)\n",
    "\n",
    "mul = X.matmul(X.T)\n",
    "print(\"Matrix Mul:\\n\", mul)\n",
    "\n",
    "mul_final: torch.Tensor = torch.Tensor()\n",
    "torch.matmul(X, X.T, out=mul_final)\n",
    "print(\"Final Matrix Mul:\\n\", mul_final)"
   ]
  },
  {
   "cell_type": "code",
   "execution_count": 32,
   "id": "a0dcd37f",
   "metadata": {},
   "outputs": [
    {
     "name": "stdout",
     "output_type": "stream",
     "text": [
      "tensor(3.2409)\n",
      "3.2408676147460938\n"
     ]
    }
   ],
   "source": [
    "# Aggregations as Python Items\n",
    "sum_val = X.sum()\n",
    "print(sum_val)\n",
    "print(sum_val.item())"
   ]
  },
  {
   "cell_type": "code",
   "execution_count": null,
   "id": "7398c2ce",
   "metadata": {},
   "outputs": [],
   "source": []
  }
 ],
 "metadata": {
  "kernelspec": {
   "display_name": "pytorch-playgrounds",
   "language": "python",
   "name": "python3"
  },
  "language_info": {
   "codemirror_mode": {
    "name": "ipython",
    "version": 3
   },
   "file_extension": ".py",
   "mimetype": "text/x-python",
   "name": "python",
   "nbconvert_exporter": "python",
   "pygments_lexer": "ipython3",
   "version": "3.12.11"
  }
 },
 "nbformat": 4,
 "nbformat_minor": 5
}
